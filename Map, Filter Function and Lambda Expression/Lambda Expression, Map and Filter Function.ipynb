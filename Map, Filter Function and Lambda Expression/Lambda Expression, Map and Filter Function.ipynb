{
 "cells": [
  {
   "cell_type": "markdown",
   "id": "6828dbcb-bdc9-4ffb-a2be-2ab1d30f7f3f",
   "metadata": {},
   "source": [
    "Lambda Expressions, Map and Filter Function\n",
    "\n",
    "If there is a requirement to map a function to every element of list, set or dictionary then you can make use of map function in Python. For example if we have list and we want to calculate the square of each individual element then map function makes it simple for us.\n",
    "\n",
    "map(function_name, list)\n",
    "\n",
    "Filter Function: Suppose we have a list like [1,2,3,45,6,7,8] and we want to just return even numbers from this list. So for that we can make use of Filter function."
   ]
  },
  {
   "cell_type": "code",
   "execution_count": 15,
   "id": "f4e28012-b31f-42b0-bf8c-c92e56eae2e0",
   "metadata": {},
   "outputs": [
    {
     "name": "stdout",
     "output_type": "stream",
     "text": [
      "1\n",
      "4\n",
      "9\n",
      "16\n",
      "25\n",
      "36\n",
      "49\n",
      "64\n",
      "81\n",
      "100\n",
      "121\n"
     ]
    }
   ],
   "source": [
    "def square(num):\n",
    "    return num**2\n",
    "\n",
    "my_nums = [1,2,3,4,5,6,7,8,9,10,11]\n",
    "for item in map(square, my_nums):\n",
    "    print(item)"
   ]
  },
  {
   "cell_type": "code",
   "execution_count": 39,
   "id": "2ae07cb3-bd53-4ae5-99b7-cd60f3e4f9bc",
   "metadata": {},
   "outputs": [
    {
     "name": "stdout",
     "output_type": "stream",
     "text": [
      "Even\n",
      "Even\n"
     ]
    },
    {
     "data": {
      "text/plain": [
       "['H', 'I', None, None, 'O']"
      ]
     },
     "execution_count": 39,
     "metadata": {},
     "output_type": "execute_result"
    }
   ],
   "source": [
    "def splicer(mystring):\n",
    "    if len(mystring)%2 == 0:\n",
    "        print('Even')\n",
    "    else:\n",
    "        return mystring[0]\n",
    "\n",
    "names = ['Henry', 'India', 'Robert', 'Tenzen', 'Olley']\n",
    "list(map(splicer, names))"
   ]
  },
  {
   "cell_type": "code",
   "execution_count": 43,
   "id": "8cd83eee-9d68-47a6-a616-ef9e9eef38d7",
   "metadata": {},
   "outputs": [
    {
     "data": {
      "text/plain": [
       "['H', 'I', 'Even', 'Even', 'O']"
      ]
     },
     "execution_count": 43,
     "metadata": {},
     "output_type": "execute_result"
    }
   ],
   "source": [
    "def splicer(mystring):\n",
    "    if len(mystring)%2 == 0:\n",
    "        return 'Even'\n",
    "    else:\n",
    "        return mystring[0]\n",
    "\n",
    "names = ['Henry', 'India', 'Robert', 'Tenzen', 'Olley']\n",
    "list(map(splicer, names))"
   ]
  },
  {
   "cell_type": "code",
   "execution_count": 55,
   "id": "075d4c0a-df39-4fd3-a28a-fe13bbbfa25e",
   "metadata": {},
   "outputs": [
    {
     "name": "stdout",
     "output_type": "stream",
     "text": [
      "74\n",
      "2\n",
      "5744\n",
      "20\n",
      "8\n"
     ]
    }
   ],
   "source": [
    "list  = [1,74,2,5744,45,20,5,8,9,67,49,29]\n",
    "def check_even(num):\n",
    "    if num%2 == 0:\n",
    "        return num\n",
    "    else:\n",
    "        pass\n",
    "\n",
    "for item in filter(check_even, list):\n",
    "    print(item)"
   ]
  },
  {
   "cell_type": "code",
   "execution_count": 67,
   "id": "e460f8fd-c1d6-42ee-b9de-d7377f62988d",
   "metadata": {},
   "outputs": [
    {
     "name": "stdout",
     "output_type": "stream",
     "text": [
      "1\n",
      "4\n",
      "9\n",
      "16\n",
      "25\n"
     ]
    }
   ],
   "source": [
    "for item in map(lambda num: num ** 2, [1,2,3,4,5]):\n",
    "    print(item)"
   ]
  },
  {
   "cell_type": "code",
   "execution_count": 91,
   "id": "c2869616-83f4-4f6b-a683-9e660daf7764",
   "metadata": {},
   "outputs": [
    {
     "name": "stdout",
     "output_type": "stream",
     "text": [
      "50\n",
      "75\n",
      "x is 75\n"
     ]
    }
   ],
   "source": [
    "#GLOBAL VARIABLE AS PER LEGB RULE\n",
    "x = 25\n",
    "\n",
    "def printer():\n",
    "    #local enclosing reassignment\n",
    "    global x\n",
    "    x = 50\n",
    "    print(x)\n",
    "    def hello():\n",
    "        global x\n",
    "        x = 75\n",
    "        # local reassignement\n",
    "        print(x)\n",
    "    hello()\n",
    "\n",
    "\n",
    "printer()\n",
    "print(f'x is {x}')"
   ]
  },
  {
   "cell_type": "code",
   "execution_count": null,
   "id": "3c83eba4-9189-41b7-93ab-73fe1ea7b503",
   "metadata": {},
   "outputs": [],
   "source": []
  }
 ],
 "metadata": {
  "kernelspec": {
   "display_name": "Python 3 (ipykernel)",
   "language": "python",
   "name": "python3"
  },
  "language_info": {
   "codemirror_mode": {
    "name": "ipython",
    "version": 3
   },
   "file_extension": ".py",
   "mimetype": "text/x-python",
   "name": "python",
   "nbconvert_exporter": "python",
   "pygments_lexer": "ipython3",
   "version": "3.12.4"
  }
 },
 "nbformat": 4,
 "nbformat_minor": 5
}
