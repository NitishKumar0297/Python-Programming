{
 "cells": [
  {
   "cell_type": "code",
   "execution_count": 40,
   "id": "7e8eb3f5-361d-4233-b07d-740fb0efa8a1",
   "metadata": {},
   "outputs": [
    {
     "name": "stdout",
     "output_type": "stream",
     "text": [
      "Hello this is first line\n",
      "This is second line\n",
      "This is 3rd line\n",
      "This is 4th line\n",
      "This is 5th line\n"
     ]
    }
   ],
   "source": [
    "my_file = open('myfile.txt')\n",
    "print(my_file.read())\n",
    "#below line sets the cursor to 0. when we read file then cursor goes to last. and next time when we read it,\n",
    "# it returns empty. So it is important to set the cursor to start by calling seek(0) method on file object\n",
    "my_file.seek(0)"
   ]
  },
  {
   "cell_type": "code",
   "execution_count": 46,
   "id": "12222850-b3e6-4a25-99a1-639094e6ade8",
   "metadata": {},
   "outputs": [
    {
     "name": "stdout",
     "output_type": "stream",
     "text": [
      "Hello this is first line\n",
      "This is second line\n",
      "This is 3rd line\n",
      "This is 4th line\n",
      "This is 5th line\n"
     ]
    }
   ],
   "source": [
    "my_file = open('myfile.txt')\n",
    "my_file.read()\n",
    "my_file.seek(0)\n",
    "print(my_file.read())"
   ]
  },
  {
   "cell_type": "code",
   "execution_count": 50,
   "id": "d64f097f-ba8e-498f-a0ee-3f9f97c3650b",
   "metadata": {},
   "outputs": [
    {
     "data": {
      "text/plain": [
       "'Hello this is first line\\nThis is second line\\nThis is 3rd line\\nThis is 4th line\\nThis is 5th line'"
      ]
     },
     "execution_count": 50,
     "metadata": {},
     "output_type": "execute_result"
    }
   ],
   "source": [
    "my_file = open('myfile.txt')\n",
    "my_file.read()"
   ]
  },
  {
   "cell_type": "code",
   "execution_count": 54,
   "id": "25909c7f-65b1-41ba-9aed-9b96bc7a800e",
   "metadata": {},
   "outputs": [
    {
     "data": {
      "text/plain": [
       "['Hello this is first line\\n',\n",
       " 'This is second line\\n',\n",
       " 'This is 3rd line\\n',\n",
       " 'This is 4th line\\n',\n",
       " 'This is 5th line']"
      ]
     },
     "execution_count": 54,
     "metadata": {},
     "output_type": "execute_result"
    }
   ],
   "source": [
    "my_file = open('myfile.txt')\n",
    "#converted each lines into list element\n",
    "my_file.readlines()"
   ]
  },
  {
   "cell_type": "code",
   "execution_count": 56,
   "id": "21a02250-2059-444d-ade2-be807003185d",
   "metadata": {},
   "outputs": [
    {
     "data": {
      "text/plain": [
       "'/Users/nitishkumar/NK-Python-Learning/Python Object And Data Types'"
      ]
     },
     "execution_count": 56,
     "metadata": {},
     "output_type": "execute_result"
    }
   ],
   "source": [
    "pwd"
   ]
  },
  {
   "cell_type": "code",
   "execution_count": 58,
   "id": "f8b357ea-75c8-4375-ba60-fbc712343acf",
   "metadata": {},
   "outputs": [
    {
     "data": {
      "text/plain": [
       "'This is test file\\nthis is 2nd line of test file\\nthis is 3rd line of test file'"
      ]
     },
     "execution_count": 58,
     "metadata": {},
     "output_type": "execute_result"
    }
   ],
   "source": [
    "test_file = open('/Users/nitishkumar/Downloads/testfile.txt')\n",
    "test_file.read()"
   ]
  },
  {
   "cell_type": "code",
   "execution_count": 66,
   "id": "16ee17c9-0549-44fb-b72e-6e36d9dedc38",
   "metadata": {},
   "outputs": [
    {
     "data": {
      "text/plain": [
       "['This is test file\\n',\n",
       " 'this is 2nd line of test file\\n',\n",
       " 'this is 3rd line of test file']"
      ]
     },
     "execution_count": 66,
     "metadata": {},
     "output_type": "execute_result"
    }
   ],
   "source": [
    "test_file = open('/Users/nitishkumar/Downloads/testfile.txt')\n",
    "test_file.readlines()"
   ]
  },
  {
   "cell_type": "code",
   "execution_count": 68,
   "id": "f51d2e46-1c11-4ee4-92d7-fb19f92afc99",
   "metadata": {},
   "outputs": [],
   "source": [
    "test_file.close()"
   ]
  },
  {
   "cell_type": "markdown",
   "id": "889b7f93-2f97-4bed-bb80-6dd8274001ca",
   "metadata": {},
   "source": [
    "If we use with keyword as below syntax then we no need worry about the close file"
   ]
  },
  {
   "cell_type": "code",
   "execution_count": 74,
   "id": "d45b96bd-0b24-483b-8b4c-2b497847eac2",
   "metadata": {},
   "outputs": [
    {
     "name": "stdout",
     "output_type": "stream",
     "text": [
      "This is test file\n",
      "this is 2nd line of test file\n",
      "this is 3rd line of test file\n"
     ]
    }
   ],
   "source": [
    "with open('/Users/nitishkumar/Downloads/testfile.txt') as copy_test_file:\n",
    "    file_content = copy_test_file\n",
    "    print(file_content.read())"
   ]
  },
  {
   "cell_type": "code",
   "execution_count": 86,
   "id": "b49c7b9a-5ee3-4b79-bb31-41fcf972923d",
   "metadata": {},
   "outputs": [],
   "source": [
    "with open('/Users/nitishkumar/Downloads/testfile.txt', mode='a') as myfile:\n",
    "    myfile.write(\"\\nThis is 4th line\")    "
   ]
  },
  {
   "cell_type": "code",
   "execution_count": 92,
   "id": "cb0b02bc-3b20-42ac-8f48-c95bd2618ef7",
   "metadata": {},
   "outputs": [
    {
     "name": "stdout",
     "output_type": "stream",
     "text": [
      "This is test file\n",
      "this is 2nd line of test file\n",
      "this is 3rd line of test fileThis is 4th lineThis is 4th lineThis is 4th line\n",
      "This is 4th line\n",
      "This is 4th line\n"
     ]
    }
   ],
   "source": [
    "with open ('/Users/nitishkumar/Downloads/testfile.txt', mode='r') as myfile:\n",
    "    print(myfile.read())"
   ]
  },
  {
   "cell_type": "code",
   "execution_count": 96,
   "id": "03a5f420-9598-448d-841b-7cea4935593b",
   "metadata": {},
   "outputs": [],
   "source": [
    "with open('/Users/nitishkumar/Downloads/testfile.txt', mode = 'w') as writefile:\n",
    "    writefile.write('Welcome to Python')"
   ]
  },
  {
   "cell_type": "code",
   "execution_count": 98,
   "id": "7af3ec9c-46af-453d-931b-8d803e0c48a9",
   "metadata": {},
   "outputs": [],
   "source": [
    "with open('/Users/nitishkumar/Downloads/pythonioexample.txt', mode = 'w') as writefile:\n",
    "    writefile.write('Welcome to Python')"
   ]
  },
  {
   "cell_type": "code",
   "execution_count": null,
   "id": "cfa92389-bb88-448f-8b51-88158a7636ab",
   "metadata": {},
   "outputs": [],
   "source": []
  }
 ],
 "metadata": {
  "kernelspec": {
   "display_name": "Python 3 (ipykernel)",
   "language": "python",
   "name": "python3"
  },
  "language_info": {
   "codemirror_mode": {
    "name": "ipython",
    "version": 3
   },
   "file_extension": ".py",
   "mimetype": "text/x-python",
   "name": "python",
   "nbconvert_exporter": "python",
   "pygments_lexer": "ipython3",
   "version": "3.12.4"
  }
 },
 "nbformat": 4,
 "nbformat_minor": 5
}
