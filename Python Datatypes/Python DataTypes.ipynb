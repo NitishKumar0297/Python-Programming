{
 "cells": [
  {
   "cell_type": "markdown",
   "id": "e300b197-8c90-4047-a533-0f75761c4681",
   "metadata": {},
   "source": [
    "Name             |  Type  |  Description\n",
    "--------------------------------------------------------------------------------------\n",
    "1. Integer       | int    | Whole number, such as 3, 300, 200 etc.\n",
    "2. Floating Point| float  | Number with decimal point such as 33.5, 100.2, 4.6, 2.3 etc.\n",
    "3. Strings       | str    | Ordered sequence of characters: \"hello\", \"Sammy\", \"2000\", \"India\" etc.\n",
    "4. Lists         | list   | Ordered sequence of objects: [10, \"hello\", 200.3, \"India\"]\n",
    "5. Dictionaries  | dict   | Unordered Key:Value pairs : {\"myKey\":\"value\", \"name\":\"Python\", \"country\":\"India\"}\n",
    "6. Tuples        | tup    | Ordered immutable sequence of objects: (10, \"hello\", \"2\", 200.3, \"India\"}\n",
    "7. Sets          | set    | Unordered collection of unique objects: {\"a\", \"b\"}\n",
    "8. Booleans      | bool   | Logical value indicating True or False\n"
   ]
  },
  {
   "cell_type": "markdown",
   "id": "9d79b15e-d4d5-4174-9cd9-a84ad1a607b8",
   "metadata": {},
   "source": [
    "Name             |  Type  |  Description\n",
    "--------------------------------------------------------------------------------------\n",
    "1. Integer       | int    | Whole number, such as 3, 300, 200 etc.\n",
    "2. Floating Point| float  | Number with decimal point such as 33.5, 100.2, 4.6, 2.3 etc.\n",
    "3. Strings       | str    | Ordered sequence of characters: \"hello\", \"Sammy\", \"2000\", \"India\" etc.\n",
    "4. Lists         | list   | Ordered sequence of objects: [10, \"hello\", 200.3, \"India\"]\n",
    "5. Dictionaries  | dict   | Unordered Key:Value pairs : {\"myKey\":\"value\", \"name\":\"Python\", \"country\":\"India\"}\n",
    "6. Tuples        | tup    | Ordered immutable sequence of objects: (10, \"hello\", \"2\", 200.3, \"India\"}\n",
    "7. Sets          | set    | Unordered collection of unique objects: {\"a\", \"b\"}\n",
    "8. Booleans      | bool   | Logical value indicating True or False\n"
   ]
  },
  {
   "cell_type": "markdown",
   "id": "76383c36-16f1-44c9-9c9d-9e9dfadcbb81",
   "metadata": {},
   "source": [
    "Python is dynamic typed langauge and it simply means we can re-assign variable to different datatype. Below is the simple example:\n",
    "\n",
    "my_var = 2\n",
    "my_var = \"hello\"\n",
    "my_var = ['India', 'Aus']\n",
    "\n",
    "You will get error if you try to do this in other languages as other languages are statically typed\n",
    "\n",
    "type() function is used to get the type of var"
   ]
  },
  {
   "cell_type": "code",
   "execution_count": 7,
   "id": "9850335a-aa15-42f2-a351-36b5da61d531",
   "metadata": {},
   "outputs": [
    {
     "name": "stdout",
     "output_type": "stream",
     "text": [
      "1\n",
      "15\n",
      "125\n",
      "110000000\n"
     ]
    }
   ],
   "source": [
    "print(2-1)\n",
    "print(10+5)\n",
    "print(100+25)\n",
    "print(10000000 + 100000000)"
   ]
  },
  {
   "cell_type": "code",
   "execution_count": 9,
   "id": "1c68dbaf-bf0f-41ae-afea-e10009001d66",
   "metadata": {},
   "outputs": [
    {
     "name": "stdout",
     "output_type": "stream",
     "text": [
      "1500\n",
      "50\n"
     ]
    }
   ],
   "source": [
    "print(125*12)\n",
    "print(10*5)"
   ]
  },
  {
   "cell_type": "code",
   "execution_count": 11,
   "id": "677582c6-f39c-4019-bdc8-826bb221ce86",
   "metadata": {},
   "outputs": [
    {
     "name": "stdout",
     "output_type": "stream",
     "text": [
      "25.0\n"
     ]
    }
   ],
   "source": [
    "print(50/2)"
   ]
  },
  {
   "cell_type": "code",
   "execution_count": 17,
   "id": "aa331312-9c07-4825-9a9f-022e9be2dc46",
   "metadata": {},
   "outputs": [
    {
     "name": "stdout",
     "output_type": "stream",
     "text": [
      "0\n",
      "1\n",
      "13.333333333333334\n"
     ]
    }
   ],
   "source": [
    "print(50%2)\n",
    "print(40%3)\n",
    "print(40/3)"
   ]
  },
  {
   "cell_type": "code",
   "execution_count": 39,
   "id": "be693ed1-11a6-4472-807f-61343108e5ee",
   "metadata": {},
   "outputs": [
    {
     "name": "stdout",
     "output_type": "stream",
     "text": [
      "36 is even\n"
     ]
    }
   ],
   "source": [
    "num = 36\n",
    "def calculateEvenOdd(num):\n",
    "    if num%2 == 0:\n",
    "        print(f'{num} is even')\n",
    "    else:\n",
    "        print(f'{num} is odd')\n",
    "\n",
    "calculateEvenOdd(num)"
   ]
  },
  {
   "cell_type": "markdown",
   "id": "c38b1260-852c-4177-b98b-c094470b0797",
   "metadata": {},
   "source": [
    "Below is the example of number power\n",
    "like we are calculating 2 raise to power 3 and 5 raise to power 4"
   ]
  },
  {
   "cell_type": "code",
   "execution_count": 51,
   "id": "b8cff191-70b1-41bf-ac87-136180620c19",
   "metadata": {},
   "outputs": [
    {
     "name": "stdout",
     "output_type": "stream",
     "text": [
      "8\n",
      "625\n"
     ]
    }
   ],
   "source": [
    "print(2**3)\n",
    "print(5**4)"
   ]
  },
  {
   "cell_type": "markdown",
   "id": "411ba1bb-de66-491d-a758-f8ab388752f0",
   "metadata": {},
   "source": [
    "Below is the examples of dynamically typed and reassignement"
   ]
  },
  {
   "cell_type": "code",
   "execution_count": 77,
   "id": "778e0268-d000-461b-8627-e730941e5f49",
   "metadata": {},
   "outputs": [
    {
     "name": "stdout",
     "output_type": "stream",
     "text": [
      "=======================\n",
      "<class 'int'>\n",
      "15\n",
      "=======================\n",
      "<class 'str'>\n",
      "Hello\n",
      "=======================\n",
      "<class 'list'>\n",
      "['India', 'Aus', 100]\n",
      "India\n",
      "Aus\n",
      "100\n",
      "=======================\n",
      "<class 'set'>\n",
      "{'Aus', 'India'}\n",
      "=======================\n",
      "<class 'dict'>\n",
      "{'1': 'India', '2': 'Aus', 3: 'NZ'}\n",
      "=======================\n",
      "<class 'tuple'>\n",
      "('India', 12345, 3.14, 45, 'NZ')\n"
     ]
    }
   ],
   "source": [
    "a = 10\n",
    "a = 15\n",
    "print('=======================')\n",
    "print(type(a))\n",
    "print(a)\n",
    "\n",
    "a = \"Hello\"\n",
    "print('=======================')\n",
    "print(type(a))\n",
    "print(a)\n",
    "\n",
    "#list example\n",
    "a = [\"India\", \"Aus\", 100]\n",
    "print('=======================')\n",
    "print(type(a))\n",
    "print(a)\n",
    "for a1 in a:\n",
    "    print(a1)\n",
    "\n",
    "#set example\n",
    "a = {\"India\", \"India\", \"Aus\"}\n",
    "print('=======================')\n",
    "print(type(a))\n",
    "print(a)\n",
    "\n",
    "#Dictionary example\n",
    "a = {\"1\":\"India\", \"2\":\"Aus\", 3: \"NZ\"}\n",
    "print('=======================')\n",
    "print(type(a))\n",
    "print(a)\n",
    "\n",
    "#Tuple example\n",
    "a = (\"India\", 12345, 3.14, 45, \"NZ\")\n",
    "print('=======================')\n",
    "print(type(a))\n",
    "print(a)"
   ]
  },
  {
   "cell_type": "code",
   "execution_count": 91,
   "id": "c3bdb8db-7bdb-47aa-9753-ce49bfebe144",
   "metadata": {},
   "outputs": [
    {
     "name": "stdout",
     "output_type": "stream",
     "text": [
      "income tax is 450000.0\n",
      "income after tax is 1050000.0\n"
     ]
    }
   ],
   "source": [
    "my_income = 1500000\n",
    "tax_rate = 0.3\n",
    "income_tax = my_income * tax_rate\n",
    "print(f'income tax is {income_tax}')\n",
    "income_after_tax = my_income - income_tax\n",
    "print(f'income after tax is {income_after_tax}')"
   ]
  },
  {
   "cell_type": "markdown",
   "id": "fe45bc54-efca-4103-987e-0e23750ca20f",
   "metadata": {},
   "source": [
    "Strings \n",
    "Strings are sequence of characters. We can define strings either single quotes or double quotes.\n",
    "var name = 'Robert'\n",
    "var country = \"USA\"\n",
    "var designation = 'Senior Engineer'\n",
    "\n",
    "Index => use [] to get particular index\n",
    "'Robert'\n",
    "\n",
    "    FWD  REVERSE\n",
    "R - 0    0 \n",
    "o - 1   -5\n",
    "b - 2   -4\n",
    "e - 3   -3\n",
    "r - 4   -2\n",
    "t - 5   -1\n",
    "\n",
    "String Length\n",
    "To calculate the length make use of len('') function.\n",
    "len('hello') #5\n",
    "\n",
    "String Slicing\n",
    "Slicing allows you to grab a subsection/substring of multiple characters i.e. a \"slice\" of string.\n",
    "Syntax for slicing: [start:stop:step]\n",
    "start - It is the numerical index for the slice start\n",
    "stop - It is the numerical index from where up to you want slicing. Please note it is not included i.e. this index not included\n",
    "step - It is the size of the \"jump\" you take\n",
    "Below are the examples."
   ]
  },
  {
   "cell_type": "code",
   "execution_count": 121,
   "id": "627bf874-3664-4974-b520-eeb08956ed03",
   "metadata": {},
   "outputs": [
    {
     "name": "stdout",
     "output_type": "stream",
     "text": [
      "Robert\n",
      "Robert\n",
      "Hi, I'm going to learn Python\n",
      "Robert Forest\n",
      "13\n",
      "Hello How are you ?\n",
      "I hope you are doing good\n",
      "after slicing [0,6,1]\n",
      "Robert\n"
     ]
    }
   ],
   "source": [
    "name = 'Robert'\n",
    "print(name)\n",
    "name = \"Robert\"\n",
    "print(name)\n",
    "sentence = \"Hi, I'm going to learn Python\"\n",
    "print(sentence)\n",
    "name=\"Robert Forest\"\n",
    "print(name)\n",
    "print(len(name))\n",
    "sentence = \"Hello How are you ?\\nI hope you are doing good\";\n",
    "print(sentence)\n",
    "print('after slicing [0,6,1]')\n",
    "print(name[0:6:1])"
   ]
  },
  {
   "cell_type": "code",
   "execution_count": 154,
   "id": "4b704962-6abf-4b83-81a6-5dd00139bedb",
   "metadata": {},
   "outputs": [
    {
     "name": "stdout",
     "output_type": "stream",
     "text": [
      "H\n",
      "H\n",
      "e\n",
      "l\n",
      "l\n",
      "o\n",
      " \n",
      "W\n",
      "o\n",
      "r\n",
      "l\n",
      "d\n",
      "l\n",
      "below is slicling example\n",
      "Hello\n",
      "World\n",
      "Hello World\n",
      "reversing my_string\n",
      "dlroW olleH\n"
     ]
    }
   ],
   "source": [
    "my_string = 'Hello World'\n",
    "print(my_string[0])\n",
    "for i in my_string:\n",
    "    print(i)\n",
    "\n",
    "print(my_string[-2])\n",
    "print('below is slicling example')\n",
    "print(my_string[0:5:1])\n",
    "print(my_string[6:11:1])\n",
    "print(my_string[::1])\n",
    "print(\"reversing my_string\")\n",
    "print(my_string[::-1])\n",
    "# ' '+ [6:10:1])"
   ]
  },
  {
   "cell_type": "code",
   "execution_count": null,
   "id": "7000f4c6-8b78-47d6-a3cb-8ea00b8e4e4c",
   "metadata": {},
   "outputs": [],
   "source": []
  },
  {
   "cell_type": "code",
   "execution_count": null,
   "id": "e59c5231-ce28-4f0e-9bed-e097d5f193a3",
   "metadata": {},
   "outputs": [],
   "source": []
  }
 ],
 "metadata": {
  "kernelspec": {
   "display_name": "Python 3 (ipykernel)",
   "language": "python",
   "name": "python3"
  },
  "language_info": {
   "codemirror_mode": {
    "name": "ipython",
    "version": 3
   },
   "file_extension": ".py",
   "mimetype": "text/x-python",
   "name": "python",
   "nbconvert_exporter": "python",
   "pygments_lexer": "ipython3",
   "version": "3.12.4"
  }
 },
 "nbformat": 4,
 "nbformat_minor": 5
}
