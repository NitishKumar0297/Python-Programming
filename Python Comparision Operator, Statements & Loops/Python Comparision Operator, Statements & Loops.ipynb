{
 "cells": [
  {
   "cell_type": "markdown",
   "id": "d7f00f49-18d8-4845-960e-24793d3fa237",
   "metadata": {},
   "source": [
    "For Loops in Python\n",
    "We can use For Loops to execute a block of code for every iteration. The term iterable means you can iterate over the object.\n",
    "For example: you can iterate over every character in string, iterate over every item in list, iterate over every key in a dictionary.\n",
    "Syntax of for loop:\n",
    " my_iterable = [1,2,3]\n",
    " for item_name in my_iterable:\n",
    "     print(item_name)\n",
    "\n",
    "\n",
    "While Loop\n",
    "syntax:\n",
    "while some_boolean_condition:\n",
    "    #do something\n",
    "\n",
    "break: breaks out of the current closest enclosing loop\n",
    "continue: goes to the top of the closest enclosing loop\n",
    "pass: does nothing at all\n",
    "####################################\n",
    "Few Built in Function and Operators in Python\n",
    "\n",
    "1. range() function in Python.\n",
    "2. enumerate() function\n",
    "3. zip() function\n",
    "To check if element exist in list we can make use of below syntax:\n",
    "'x' in [1,2,3] => False\n",
    "'x' in ['x', 'y', 'z'] => True\n",
    "4. max function\n",
    "5. min function\n",
    "\n",
    "random function from library. below is the sample example.\n",
    "\n",
    "from random import shuffle  => this syntax means from random library in python import shuffle function\n",
    "\n",
    "To take input from user make use of input('enter a number here') function\n",
    "\n",
    "6. input(). by default it is string type but if you are taking other type of input then cast it manually\n",
    "7. type() to get the type of passed object.\n",
    "\n",
    "\n",
    "List Comprehensions in Python\n",
    "List comprehensions are unique way of quickly creating a list with Python. If you find yourself using a for loop along with .append() to create a list then list comprehensions are a good alternative.\n"
   ]
  },
  {
   "cell_type": "code",
   "execution_count": 51,
   "id": "f7e093cc-fca8-47c2-a632-0b639b730032",
   "metadata": {},
   "outputs": [
    {
     "name": "stdout",
     "output_type": "stream",
     "text": [
      "47 is odd\n"
     ]
    }
   ],
   "source": [
    "# write a program to check number is even or odd\n",
    "num = 47\n",
    "if num%2 == 0:\n",
    "    print(f'{num} is even')\n",
    "elif num%2 == 1:\n",
    "    print(f'{num} is odd')\n",
    "    "
   ]
  },
  {
   "cell_type": "code",
   "execution_count": 64,
   "id": "d8317899-4568-41c6-a966-d3e49927a7a7",
   "metadata": {},
   "outputs": [
    {
     "name": "stdout",
     "output_type": "stream",
     "text": [
      "num is 1\n",
      "1 is odd\n",
      "num is 2\n",
      "2 is even\n",
      "num is 3\n",
      "3 is odd\n",
      "num is 4\n",
      "4 is even\n",
      "num is 5\n",
      "5 is odd\n",
      "num is 6\n",
      "6 is even\n",
      "num is 7\n",
      "7 is odd\n",
      "num is 8\n",
      "8 is even\n",
      "num is 9\n",
      "9 is odd\n",
      "num is 10\n",
      "10 is even\n",
      "sum is  55\n"
     ]
    }
   ],
   "source": [
    "my_list = [1,2,3,4,5,6,7,8,9,10]\n",
    "sum = 0\n",
    "for item in my_list:\n",
    "    print(f'num is {item}')\n",
    "    if item%2 == 0:\n",
    "        sum = sum + item\n",
    "        print(f'{item} is even')\n",
    "    else:\n",
    "        sum = sum + item\n",
    "        print(f'{item} is odd')\n",
    "\n",
    "print(f'sum is  {sum}')"
   ]
  },
  {
   "cell_type": "code",
   "execution_count": 53,
   "id": "3b277fff-3e54-4f6e-941f-9dbaf8e12fa5",
   "metadata": {},
   "outputs": [
    {
     "name": "stdin",
     "output_type": "stream",
     "text": [
      "enter your current designation hiehf2e\n"
     ]
    },
    {
     "name": "stdout",
     "output_type": "stream",
     "text": [
      "Happy Learning\n"
     ]
    }
   ],
   "source": [
    "#print relavant statement based on entered designation\n",
    "designation = input('enter your current designation')\n",
    "if ('Software Engineer' == designation):\n",
    "    print('Learn System Design to get promoted to Senior Software Engineer')\n",
    "elif 'Tech Lead' == designation:\n",
    "    print('Learn more management skills and create more great engineers to get into Senior Tech Lead Role')\n",
    "elif'System Admin' == designation:\n",
    "    print('learn different OS skills to get promotion')\n",
    "else:\n",
    "    print('Happy Learning')\n",
    "\n"
   ]
  },
  {
   "cell_type": "code",
   "execution_count": 66,
   "id": "5466134a-17fc-4e3b-ba79-3c9d0a4f79bb",
   "metadata": {},
   "outputs": [
    {
     "name": "stdout",
     "output_type": "stream",
     "text": [
      "P\n",
      "y\n",
      "t\n",
      "h\n",
      "o\n",
      "n\n",
      "L\n",
      "a\n",
      "n\n",
      "g\n",
      "u\n",
      "a\n",
      "g\n",
      "e\n"
     ]
    }
   ],
   "source": [
    "my_string = 'Python Language'\n",
    "for char in my_string:\n",
    "    if ' ' != char:\n",
    "        print(char)\n"
   ]
  },
  {
   "cell_type": "code",
   "execution_count": 68,
   "id": "794307a4-35cf-4023-a99d-d88236fbb566",
   "metadata": {},
   "outputs": [
    {
     "name": "stdout",
     "output_type": "stream",
     "text": [
      "1\n",
      "2\n",
      "3\n"
     ]
    }
   ],
   "source": [
    "tup = (1,2,3)\n",
    "for item in tup:\n",
    "    print(item)"
   ]
  },
  {
   "cell_type": "code",
   "execution_count": 72,
   "id": "d38b20fc-c42c-4408-b340-5843d75041e1",
   "metadata": {},
   "outputs": [
    {
     "name": "stdout",
     "output_type": "stream",
     "text": [
      "(1, 2)\n",
      "(3, 4)\n",
      "(5, 6)\n",
      "(7, 8)\n",
      "1 2\n",
      "3 4\n",
      "5 6\n",
      "7 8\n"
     ]
    }
   ],
   "source": [
    "my_list  = [(1,2), (3,4), (5,6), (7,8)]\n",
    "for item in my_list:\n",
    "    print(item)\n",
    "\n",
    "for a,b in my_list:\n",
    "    print(f'{a} {b}')"
   ]
  },
  {
   "cell_type": "code",
   "execution_count": 84,
   "id": "bd891e54-fc8b-42c5-bfee-66b368e96125",
   "metadata": {},
   "outputs": [
    {
     "name": "stdout",
     "output_type": "stream",
     "text": [
      "v1\n",
      "v2\n",
      "v3\n",
      "key:k1 value: v1\n",
      "key:k2 value: v2\n",
      "key:k3 value: v3\n"
     ]
    }
   ],
   "source": [
    "d = {'k1':'v1', 'k2': 'v2', 'k3': 'v3'}\n",
    "for item in d:\n",
    "    print(f'{d[item]}')\n",
    "\n",
    "for k,v in d.items():\n",
    "    print(f'key:{k} value: {v}')"
   ]
  },
  {
   "cell_type": "code",
   "execution_count": 119,
   "id": "183f1cdf-67ef-414a-a5a0-d8105c632a10",
   "metadata": {},
   "outputs": [
    {
     "name": "stdin",
     "output_type": "stream",
     "text": [
      "Enter number to calculate if it is palindrome or not 47483\n"
     ]
    },
    {
     "name": "stdout",
     "output_type": "stream",
     "text": [
      "38474 is not palindrome\n"
     ]
    }
   ],
   "source": [
    "entered_num = int(input('Enter number to calculate if it is palindrome or not'))\n",
    "number = entered_num\n",
    "sum = 0\n",
    "while (number > 0):\n",
    "    r = number%10\n",
    "    sum = int(sum * 10 + r)\n",
    "    number = int(number/10)\n",
    "\n",
    "if sum == entered_num:\n",
    "    print(f'{sum} is palindrome')\n",
    "else:\n",
    "    print(f'{sum} is not palindrome')\n",
    "\n"
   ]
  },
  {
   "cell_type": "code",
   "execution_count": 127,
   "id": "8c053a85-e589-4a81-9b9d-b580ef971677",
   "metadata": {},
   "outputs": [
    {
     "name": "stdout",
     "output_type": "stream",
     "text": [
      "End\n"
     ]
    }
   ],
   "source": [
    "x = [1,2,3]\n",
    "for item in x:\n",
    "    pass\n",
    "\n",
    "print(\"End\")"
   ]
  },
  {
   "cell_type": "code",
   "execution_count": 140,
   "id": "bb5af13f-0cef-4c5e-ba0d-2d0a11cd4180",
   "metadata": {},
   "outputs": [
    {
     "name": "stdout",
     "output_type": "stream",
     "text": [
      "0\n",
      "1\n",
      "2\n",
      "3\n",
      "4\n",
      "5\n",
      "6\n",
      "7\n",
      "8\n",
      "9\n",
      "-19\n",
      "58\n"
     ]
    }
   ],
   "source": [
    "my_list  = [1,2,3,4,5,6,7,8,9,10,11, -19, 12,13,14,15, 58, 16]\n",
    "for item in range(10):\n",
    "    print(item)\n",
    "\n",
    "print(min(my_list))\n",
    "\n",
    "print(max(my_list))"
   ]
  },
  {
   "cell_type": "code",
   "execution_count": 136,
   "id": "fa783c4e-2c34-4133-bbdf-89c2ad661a2f",
   "metadata": {},
   "outputs": [
    {
     "name": "stdout",
     "output_type": "stream",
     "text": [
      "At index 0 the letter is a\n",
      "At index 1 the letter is b\n",
      "At index 2 the letter is c\n",
      "At index 3 the letter is d\n",
      "At index 4 the letter is e\n",
      "At index 5 the letter is f\n"
     ]
    }
   ],
   "source": [
    "index_count = 0\n",
    "for letter in 'abcdef':\n",
    "    print(f'At index {index_count} the letter is {letter}')\n",
    "    index_count +=1"
   ]
  },
  {
   "cell_type": "code",
   "execution_count": 156,
   "id": "ab6ddbf3-13ed-4e6e-b02c-52d9ed463b02",
   "metadata": {},
   "outputs": [
    {
     "name": "stdout",
     "output_type": "stream",
     "text": [
      "[8, 2, 12, 13, 5, 9, 10, 3, 11, 6, 7, 4, 1]\n"
     ]
    }
   ],
   "source": [
    "from random import shuffle\n",
    "my_list = [1,2,3,4,5,6,7,8,9,10,11,12,13]\n",
    "shuffle(my_list)\n",
    "print(my_list)"
   ]
  },
  {
   "cell_type": "code",
   "execution_count": 178,
   "id": "09fe7f2f-c3ec-4f10-a316-2d01e240db11",
   "metadata": {},
   "outputs": [
    {
     "name": "stdout",
     "output_type": "stream",
     "text": [
      "174\n"
     ]
    }
   ],
   "source": [
    "from random import randint\n",
    "print(randint(0,1000))"
   ]
  },
  {
   "cell_type": "code",
   "execution_count": 188,
   "id": "edc13f8b-fb33-42f2-85ff-270de0bf4345",
   "metadata": {},
   "outputs": [
    {
     "name": "stdout",
     "output_type": "stream",
     "text": [
      "H\n",
      "e\n",
      "l\n",
      "l\n",
      "o\n",
      "['H', 'e', 'l', 'l', 'o']\n",
      "['H', 'e', 'l', 'l', 'o']\n"
     ]
    }
   ],
   "source": [
    "# list comprehensions example\n",
    "my_string = 'Hello'\n",
    "my_list = []\n",
    "for item in my_string:\n",
    "    my_list.append(item)\n",
    "    print(item)\n",
    "\n",
    "print(my_list)\n",
    "list_compre_ex = [item for item in my_string]\n",
    "print(list_compre_ex)"
   ]
  },
  {
   "cell_type": "code",
   "execution_count": null,
   "id": "e2be70d0-d56e-49d5-ad1a-6a92bc2de411",
   "metadata": {},
   "outputs": [],
   "source": []
  }
 ],
 "metadata": {
  "kernelspec": {
   "display_name": "Python 3 (ipykernel)",
   "language": "python",
   "name": "python3"
  },
  "language_info": {
   "codemirror_mode": {
    "name": "ipython",
    "version": 3
   },
   "file_extension": ".py",
   "mimetype": "text/x-python",
   "name": "python",
   "nbconvert_exporter": "python",
   "pygments_lexer": "ipython3",
   "version": "3.12.4"
  }
 },
 "nbformat": 4,
 "nbformat_minor": 5
}
