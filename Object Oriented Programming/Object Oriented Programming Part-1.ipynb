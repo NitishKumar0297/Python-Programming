{
 "cells": [
  {
   "cell_type": "markdown",
   "id": "3d967c27-adce-4368-8d37-cc6552b14157",
   "metadata": {},
   "source": [
    "#Object Oriented Programming Syntax of class\n",
    "\n",
    "class NameOfClass():\n",
    "    def __init__(self, param1, param2):\n",
    "        self.param1 = param1\n",
    "        self.param2 = param2\n",
    "        \n",
    "    def some_method(self):\n",
    "        #perform some action\n",
    "        print(self.param1)"
   ]
  },
  {
   "cell_type": "code",
   "execution_count": 76,
   "id": "ee68b32e-d9a5-440b-bc4e-01e59bd565a7",
   "metadata": {},
   "outputs": [
    {
     "name": "stdout",
     "output_type": "stream",
     "text": [
      "<class 'type'>\n",
      "Hello World from India ROBERT\n",
      "Hello ! from India NKumar\n",
      "Hello ! from India NKumar 91\n"
     ]
    }
   ],
   "source": [
    "class SampleHelloWorld():\n",
    "\n",
    "    #CLASS OBJECT ATTRIBUTE\n",
    "    #SAME FOR EVERY INSTANCE OF CLASS\n",
    "    \n",
    "    country = 'India'\n",
    "    def __init__(self, name, message):\n",
    "        self.name = name\n",
    "        self.message = message\n",
    "\n",
    "    #OPERATION AND ACTION\n",
    "    def get_message(self):\n",
    "        return print(self.message + \" from \" + self.country + \" \" + self.name)\n",
    "\n",
    "    def get_message_with_extra_param(self, countryPhoneCode):\n",
    "        return print(f'{self.message} from {self.country} {self.name} {countryPhoneCode}')\n",
    "        \n",
    "print(type(SampleHelloWorld))\n",
    "my_sample = SampleHelloWorld(name = 'ROBERT', message = 'Hello World')\n",
    "my_sample_one = SampleHelloWorld('NKumar', 'Hello !')\n",
    "my_sample_two = SampleHelloWorld('NKumar', 'Hello !')\n",
    "\n",
    "my_sample.get_message()\n",
    "my_sample_one.get_message()\n",
    "my_sample_two.get_message_with_extra_param(91)"
   ]
  },
  {
   "cell_type": "code",
   "execution_count": 16,
   "id": "7cb25e17-9d36-43b4-ada4-82520914e2de",
   "metadata": {},
   "outputs": [
    {
     "data": {
      "text/plain": [
       "__main__.SampleHelloWorld"
      ]
     },
     "execution_count": 16,
     "metadata": {},
     "output_type": "execute_result"
    }
   ],
   "source": [
    "type(my_sample)"
   ]
  },
  {
   "cell_type": "code",
   "execution_count": 114,
   "id": "3c4e1969-4933-4424-9d81-db50fe882149",
   "metadata": {},
   "outputs": [
    {
     "name": "stdin",
     "output_type": "stream",
     "text": [
      "Enter number to calculate Palindrome 101\n"
     ]
    },
    {
     "name": "stdout",
     "output_type": "stream",
     "text": [
      "Sample Program to Calculate Number is Palindrome or Not\n",
      "101 number Is Palindrome\n"
     ]
    }
   ],
   "source": [
    "class CalculatePalinendrome():\n",
    "    \n",
    "    #CLAS ATTRIBUTE\n",
    "    message = 'Sample Program to Calculate Number is Palindrome or Not'\n",
    "    def __init__(self, num):\n",
    "        self.num = num\n",
    "\n",
    "    def calculate_palindrome(self):\n",
    "        print(CalculatePalinendrome.message)\n",
    "        new_num = self.num\n",
    "        result = 0\n",
    "        while new_num > 0:\n",
    "            r = new_num%10\n",
    "            result = result * 10 + r\n",
    "            new_num = int(new_num/10)\n",
    "\n",
    "        if result == self.num:\n",
    "            return 'Is Palindrome'\n",
    "        else:\n",
    "            return 'is not a Palindrome'\n",
    "\n",
    "number = int(input('Enter number to calculate Palindrome'))\n",
    "object = CalculatePalinendrome(number)\n",
    "print(f'{number} number {object.calculate_palindrome()}')\n",
    "\n",
    "        "
   ]
  },
  {
   "cell_type": "code",
   "execution_count": 129,
   "id": "c3554858-37e2-47d5-bd4a-1c51f5be0f0b",
   "metadata": {},
   "outputs": [
    {
     "name": "stdout",
     "output_type": "stream",
     "text": [
      "Area of circle is 314.0\n"
     ]
    }
   ],
   "source": [
    "#Write a program using classes to calculate the Area of Circle\n",
    "\n",
    "class Circle():\n",
    "\n",
    "    #CLASS ATTRIBUTE\n",
    "    pi = 3.14\n",
    "    \n",
    "    def __init__(self, radius):\n",
    "        self.radius = radius\n",
    "\n",
    "    def get_area(self):\n",
    "        return self.radius * self.radius * Circle.pi;\n",
    "\n",
    "my_circle = Circle(10)\n",
    "print(f'Area of circle is {my_circle.get_area()}')"
   ]
  },
  {
   "cell_type": "markdown",
   "id": "0d39b105-387e-4f16-a17a-15b5fd306f58",
   "metadata": {},
   "source": [
    "#OOPS ASSIGNEMENT BANK ACCOUNT CLASS AND WITHDRAW AND DEPOST METHOD.\n",
    "MAKE SURE Instantiate your class, \n",
    "make several deposits and withdrawals, and test to make sure the account can't be overdrawn."
   ]
  },
  {
   "cell_type": "code",
   "execution_count": 159,
   "id": "a625214a-88a6-4688-b8f9-c099b2556213",
   "metadata": {},
   "outputs": [
    {
     "name": "stdin",
     "output_type": "stream",
     "text": [
      "Enter account holder name Rohit\n",
      "Enter how much you want to depoist 10000\n"
     ]
    },
    {
     "name": "stdout",
     "output_type": "stream",
     "text": [
      "Rohit Your account has been credited with Rs. 10000. Available balance is: 10000\n"
     ]
    },
    {
     "name": "stdin",
     "output_type": "stream",
     "text": [
      "Enter amount for withdrwal 1\n"
     ]
    },
    {
     "name": "stdout",
     "output_type": "stream",
     "text": [
      "Rohit your account has been debited with Rs. 1. Available balance is : 9999\n"
     ]
    }
   ],
   "source": [
    "class Account():\n",
    "    balance = 0\n",
    "    owner = ''\n",
    "    def __init__(self, owner, balance):\n",
    "        Account.owner = owner\n",
    "        Account.balance = balance\n",
    "\n",
    "    def withdraw(self, amount):\n",
    "        if Account.balance > 0 and Account.balance >= amount:\n",
    "            Account.balance = Account.balance - amount\n",
    "            print(f'{Account.owner} your account has been debited with Rs. {amount}. Available balance is : {Account.balance}')\n",
    "        else:\n",
    "            print(f'InSufficent Balance')\n",
    "\n",
    "    def depoist(self, amount):\n",
    "        Account.balance = Account.balance + amount\n",
    "        print(f'{Account.owner} Your account has been credited with Rs. {amount}. Available balance is: {Account.balance}')\n",
    "\n",
    "    def check_balance(self):\n",
    "        return f'{Account.owner} Your account balance is : {Account.balance}'\n",
    "\n",
    "acc_holder_name = input('Enter account holder name')\n",
    "depoist_amount = int(input('Enter how much you want to depoist'))\n",
    "bank_acc = Account(acc_holder_name, 0)\n",
    "bank_acc.depoist(depoist_amount)\n",
    "bank_acc.check_balance()\n",
    "withdraw_amt = int(input('Enter amount for withdrwal'))\n",
    "bank_acc.withdraw(withdraw_amt)"
   ]
  },
  {
   "cell_type": "code",
   "execution_count": 161,
   "id": "97173525-1728-4285-b308-9f7c55b8f18f",
   "metadata": {},
   "outputs": [
    {
     "data": {
      "text/plain": [
       "'Rohit Your account balance is : 9999'"
      ]
     },
     "execution_count": 161,
     "metadata": {},
     "output_type": "execute_result"
    }
   ],
   "source": [
    "bank_acc.check_balance()"
   ]
  },
  {
   "cell_type": "code",
   "execution_count": 163,
   "id": "7824403c-b1b6-4ba7-b355-7ef847aec287",
   "metadata": {},
   "outputs": [
    {
     "name": "stdout",
     "output_type": "stream",
     "text": [
      "Rohit Your account has been credited with Rs. 2. Available balance is: 10001\n"
     ]
    }
   ],
   "source": [
    "bank_acc.depoist(2)"
   ]
  },
  {
   "cell_type": "code",
   "execution_count": 165,
   "id": "294250bc-f318-44ab-8c9e-7e157db44da9",
   "metadata": {},
   "outputs": [
    {
     "name": "stdout",
     "output_type": "stream",
     "text": [
      "InSufficent Balance\n"
     ]
    }
   ],
   "source": [
    "bank_acc.withdraw(10002)"
   ]
  },
  {
   "cell_type": "code",
   "execution_count": 167,
   "id": "32ab361b-dfff-480a-900c-90e4a60d1cb6",
   "metadata": {},
   "outputs": [
    {
     "name": "stdout",
     "output_type": "stream",
     "text": [
      "Rohit your account has been debited with Rs. 10001. Available balance is : 0\n"
     ]
    }
   ],
   "source": [
    "bank_acc.withdraw(10001)"
   ]
  },
  {
   "cell_type": "code",
   "execution_count": 169,
   "id": "0f99905e-1fe0-4fa9-91a9-6492f5560bc2",
   "metadata": {},
   "outputs": [
    {
     "data": {
      "text/plain": [
       "'Rohit Your account balance is : 0'"
      ]
     },
     "execution_count": 169,
     "metadata": {},
     "output_type": "execute_result"
    }
   ],
   "source": [
    "bank_acc.check_balance()"
   ]
  },
  {
   "cell_type": "code",
   "execution_count": 171,
   "id": "61b86bb5-f7b7-4ca2-8289-cf56df14f0d3",
   "metadata": {},
   "outputs": [
    {
     "name": "stdout",
     "output_type": "stream",
     "text": [
      "InSufficent Balance\n"
     ]
    }
   ],
   "source": [
    "bank_acc.withdraw(1)"
   ]
  },
  {
   "cell_type": "code",
   "execution_count": null,
   "id": "f7117fb2-cbd1-4f38-89df-09b199c75310",
   "metadata": {},
   "outputs": [],
   "source": []
  }
 ],
 "metadata": {
  "kernelspec": {
   "display_name": "Python 3 (ipykernel)",
   "language": "python",
   "name": "python3"
  },
  "language_info": {
   "codemirror_mode": {
    "name": "ipython",
    "version": 3
   },
   "file_extension": ".py",
   "mimetype": "text/x-python",
   "name": "python",
   "nbconvert_exporter": "python",
   "pygments_lexer": "ipython3",
   "version": "3.12.4"
  }
 },
 "nbformat": 4,
 "nbformat_minor": 5
}
