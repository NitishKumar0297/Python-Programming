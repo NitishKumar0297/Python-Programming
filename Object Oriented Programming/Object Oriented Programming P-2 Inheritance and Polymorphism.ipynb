{
 "cells": [
  {
   "cell_type": "code",
   "execution_count": null,
   "id": "853bc5af-4bee-4de3-85ce-babfd06307e6",
   "metadata": {},
   "outputs": [],
   "source": [
    "Object Oriented Programming P-2 Inheritance and Polymorphism"
   ]
  },
  {
   "cell_type": "code",
   "execution_count": 62,
   "id": "16f93c20-533f-4d1c-96e1-45a1a234b363",
   "metadata": {},
   "outputs": [
    {
     "name": "stdout",
     "output_type": "stream",
     "text": [
      "PhonePe INIT Method called\n",
      "UpiApplication INIT Method called\n"
     ]
    },
    {
     "data": {
      "text/plain": [
       "'Bank Acc: 1234509876, app : PhonePe : Balance is 10000'"
      ]
     },
     "execution_count": 62,
     "metadata": {},
     "output_type": "execute_result"
    }
   ],
   "source": [
    "class UpiApplication():\n",
    "    #class attribute\n",
    "    mode = 'UPI'\n",
    "\n",
    "    def __init__(self, phone_number, bank_acc):\n",
    "        print('UpiApplication INIT Method called')\n",
    "        self.phone_number = phone_number\n",
    "        self.bank_acc = bank_acc\n",
    "\n",
    "    def get_balance(self, app_name, balance):\n",
    "        return f'Bank Acc: {self.bank_acc}, app : {app_name} : Balance is {balance}'\n",
    "\n",
    "class PhonePe(UpiApplication):\n",
    "    app_name = 'PhonePe'\n",
    "    balance = 10000\n",
    "    def __init__(self, p_num, b_acc):\n",
    "        print('PhonePe INIT Method called')\n",
    "        UpiApplication.__init__(self, p_num, b_acc)\n",
    "        self.p_num = p_num\n",
    "        self.b_acc = b_acc\n",
    "# upi_app = UpiApplication('0000011111', 1234509876)\n",
    "# upi_app.get_balance('BharatPe', 'xxxxxx')\n",
    "\n",
    "phone_pe_obj = PhonePe('1234567890', 1234509876)\n",
    "phone_pe_obj.get_balance(PhonePe.app_name, PhonePe.balance)"
   ]
  },
  {
   "cell_type": "code",
   "execution_count": null,
   "id": "cd083703-21ca-4d07-8a78-bcf0c0426cff",
   "metadata": {},
   "outputs": [],
   "source": []
  },
  {
   "cell_type": "markdown",
   "id": "419a38df-b402-4a4c-8a4f-5cc8961b573d",
   "metadata": {},
   "source": [
    "Polymorphism"
   ]
  },
  {
   "cell_type": "code",
   "execution_count": 86,
   "id": "cf3c2dea-8ece-46ab-ad4e-fa71db13be7d",
   "metadata": {},
   "outputs": [
    {
     "name": "stdout",
     "output_type": "stream",
     "text": [
      "sheru says woof!\n",
      "chinkey says meow\n",
      "============================\n",
      "<class '__main__.Dog'>\n",
      "sheru says woof!\n",
      "<class '__main__.Cat'>\n",
      "chinkey says meow\n",
      "========= using function =============\n",
      "chinkey says meow\n",
      "sheru says woof!\n"
     ]
    }
   ],
   "source": [
    "class Dog():\n",
    "\n",
    "    def __init__(self, name):\n",
    "        self.name = name\n",
    "\n",
    "    def speak(self):\n",
    "        return self.name + \" says woof!\"\n",
    "\n",
    "class Cat():\n",
    "\n",
    "    def __init__(self,name):\n",
    "        self.name = name\n",
    "\n",
    "    def speak(self):\n",
    "        return self.name + \" says meow\"\n",
    "\n",
    "tommy = Dog(\"sheru\")\n",
    "minkey = Cat(\"chinkey\")\n",
    "print(tommy.speak())\n",
    "print(minkey.speak())\n",
    "print('============================')\n",
    "for pet in [tommy, minkey]:\n",
    "    print(type(pet))\n",
    "    print(pet.speak())\n",
    "\n",
    "print('========= using function =============')\n",
    "\n",
    "def pet_speak(pet):\n",
    "    print(pet.speak())\n",
    "\n",
    "pet_speak(minkey)\n",
    "pet_speak(tommy)"
   ]
  },
  {
   "cell_type": "markdown",
   "id": "5bd3829a-373c-405c-b809-5900de942503",
   "metadata": {},
   "source": [
    "Abstract Classes are the classes, who are cannot be instantiated. Instance cannot be created and they are just created to be served as base classes."
   ]
  },
  {
   "cell_type": "code",
   "execution_count": 107,
   "id": "81804bdf-924a-4a91-99a8-bca2d77c7d64",
   "metadata": {},
   "outputs": [],
   "source": [
    "class Animal():\n",
    "\n",
    "    def __init__(self, name):\n",
    "        self.name = name\n",
    "\n",
    "    def speak(self):\n",
    "        raise NotImplementedError('Subclass must implement this method')\n"
   ]
  },
  {
   "cell_type": "code",
   "execution_count": 101,
   "id": "4a037040-5646-48e8-9504-9c92a3378f73",
   "metadata": {},
   "outputs": [
    {
     "data": {
      "text/plain": [
       "'isis says meow'"
      ]
     },
     "execution_count": 101,
     "metadata": {},
     "output_type": "execute_result"
    }
   ],
   "source": [
    "class Dog(Animal):\n",
    "\n",
    "    def speak(self):\n",
    "        return self.name + ' says woof'\n",
    "\n",
    "class Cat(Animal):\n",
    "    def speak(self):\n",
    "        return self.name + ' says meow'\n",
    "\n",
    "fido = Dog('Fido')\n",
    "\n",
    "isis = Cat('isis')"
   ]
  },
  {
   "cell_type": "code",
   "execution_count": 105,
   "id": "aed8ab4b-7ca7-4c65-9a83-f7a251f4c6c1",
   "metadata": {},
   "outputs": [
    {
     "data": {
      "text/plain": [
       "'Fido says woof'"
      ]
     },
     "execution_count": 105,
     "metadata": {},
     "output_type": "execute_result"
    }
   ],
   "source": [
    "fido.speak()"
   ]
  },
  {
   "cell_type": "code",
   "execution_count": 109,
   "id": "1a972b0c-9a58-4f87-8e0b-14b1ac1fdcb1",
   "metadata": {},
   "outputs": [
    {
     "data": {
      "text/plain": [
       "'isis says meow'"
      ]
     },
     "execution_count": 109,
     "metadata": {},
     "output_type": "execute_result"
    }
   ],
   "source": [
    "isis.speak()"
   ]
  },
  {
   "cell_type": "code",
   "execution_count": 139,
   "id": "5682a754-cd24-4fb9-b28b-9e730c9bcad3",
   "metadata": {},
   "outputs": [
    {
     "name": "stdout",
     "output_type": "stream",
     "text": [
      "Book title: Python Programming contains 1000 pages\n",
      "1000\n"
     ]
    }
   ],
   "source": [
    "#MAGIC AND DUNDER Methods like we have toString in Java\n",
    "\n",
    "class Book():\n",
    "\n",
    "    def __init__(self, title, pages):\n",
    "        self.title = title\n",
    "        self.pages = pages\n",
    "\n",
    "    def __str__(self):\n",
    "        return f'Book title: {self.title} contains {self.pages} pages'\n",
    "\n",
    "    def __len__(self):\n",
    "        return self.pages\n",
    "\n",
    "\n",
    "book_obj = Book('Python Programming', 1000)\n",
    "print(book_obj)\n",
    "print(len(book_obj))"
   ]
  },
  {
   "cell_type": "code",
   "execution_count": null,
   "id": "b689ee25-61c8-47ce-8221-8d0ef11e6344",
   "metadata": {},
   "outputs": [],
   "source": []
  }
 ],
 "metadata": {
  "kernelspec": {
   "display_name": "Python 3 (ipykernel)",
   "language": "python",
   "name": "python3"
  },
  "language_info": {
   "codemirror_mode": {
    "name": "ipython",
    "version": 3
   },
   "file_extension": ".py",
   "mimetype": "text/x-python",
   "name": "python",
   "nbconvert_exporter": "python",
   "pygments_lexer": "ipython3",
   "version": "3.12.4"
  }
 },
 "nbformat": 4,
 "nbformat_minor": 5
}
