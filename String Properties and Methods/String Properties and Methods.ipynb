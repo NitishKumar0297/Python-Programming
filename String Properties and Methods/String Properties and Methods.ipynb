{
 "cells": [
  {
   "cell_type": "markdown",
   "id": "8be76f44-da2d-4bc0-a181-fc05aa0334f6",
   "metadata": {},
   "source": [
    "Immutability\n",
    "Immutability means cannot changes.\n",
    "for example:\n",
    "name = \"Robert\"\n",
    "name[0] = 'K'\n",
    "If you are trying to do with string so you will get an error, because string are Immutable. You will get an error str object does not support item assignement.\n"
   ]
  },
  {
   "cell_type": "code",
   "execution_count": 181,
   "id": "776a511f-3294-4136-830f-783da00f77f4",
   "metadata": {},
   "outputs": [
    {
     "name": "stdout",
     "output_type": "stream",
     "text": [
      "obert\n",
      "Robert\n"
     ]
    }
   ],
   "source": [
    "name = 'Robert'\n",
    "#nam[0] = 'K'\n",
    "last_letters = name[1:]\n",
    "print(last_letters)\n",
    "last_letters = 'R' + last_letters #concatenation example\n",
    "print(last_letters)"
   ]
  },
  {
   "cell_type": "code",
   "execution_count": 189,
   "id": "5423262f-2334-48e5-8545-26077b465896",
   "metadata": {},
   "outputs": [
    {
     "name": "stdout",
     "output_type": "stream",
     "text": [
      "Hello World Python\n"
     ]
    }
   ],
   "source": [
    "X = 'Hello World'\n",
    "message = X + ' ' + 'Python'\n",
    "print(message)"
   ]
  },
  {
   "cell_type": "code",
   "execution_count": 191,
   "id": "6250fa51-bb76-432a-96e1-d3203e45121c",
   "metadata": {},
   "outputs": [],
   "source": [
    "#Suppose we want print hello world 3 times, then below is the way for that"
   ]
  },
  {
   "cell_type": "code",
   "execution_count": 195,
   "id": "961a6a9d-4801-4bab-b484-cb469f604da6",
   "metadata": {},
   "outputs": [
    {
     "name": "stdout",
     "output_type": "stream",
     "text": [
      "Hello World Hello World Hello World \n"
     ]
    }
   ],
   "source": [
    "X = 'Hello World' + ' '\n",
    "print(X * 3)"
   ]
  },
  {
   "cell_type": "code",
   "execution_count": 203,
   "id": "0197d97c-2905-4103-b331-7a89ece89b9b",
   "metadata": {},
   "outputs": [
    {
     "name": "stdout",
     "output_type": "stream",
     "text": [
      "23\n",
      "5\n"
     ]
    }
   ],
   "source": [
    "x = '2' + '3'\n",
    "print(x)\n",
    "x = 2 + 3\n",
    "print(x)"
   ]
  },
  {
   "cell_type": "code",
   "execution_count": 235,
   "id": "7e95b355-b6b3-4a14-8e2a-efa69412f348",
   "metadata": {},
   "outputs": [
    {
     "name": "stdout",
     "output_type": "stream",
     "text": [
      "PYTHON IS A PROGRAMMING LANGUAGE\n",
      "['Python', 'is', 'a', 'Programming', 'language']\n",
      "['', 'ython is a ', 'rogramming language']\n"
     ]
    }
   ],
   "source": [
    "x = 'Python is a Programming language'\n",
    "print(x.upper())\n",
    "print(x.split())\n",
    "print(x.split('P'))"
   ]
  },
  {
   "cell_type": "markdown",
   "id": "e5e1bde5-b66d-463a-9a5c-de0a824ce17a",
   "metadata": {},
   "source": [
    "String Interpolation\n",
    "\n",
    "my_name = \"Robert\"\n",
    "print(\"Hello \" + my_name)\n",
    "\n",
    "There are two methods: \n",
    "1. .format() method  => 'Hello {}'.format('World')\n",
    "2. f-strings (formatted string literals)\n",
    "3. "
   ]
  },
  {
   "cell_type": "code",
   "execution_count": 240,
   "id": "0c53f704-0917-46d7-9dd7-a008272eac20",
   "metadata": {},
   "outputs": [
    {
     "name": "stdout",
     "output_type": "stream",
     "text": [
      "Hello Robert\n"
     ]
    }
   ],
   "source": [
    "my_name = \"Robert\"\n",
    "print(\"Hello \" + my_name)"
   ]
  },
  {
   "cell_type": "code",
   "execution_count": 242,
   "id": "ffeae191-9615-43d4-8a8f-6c61e5cf6044",
   "metadata": {},
   "outputs": [
    {
     "name": "stdout",
     "output_type": "stream",
     "text": [
      "Hello World\n"
     ]
    }
   ],
   "source": [
    "print('Hello {}'.format('World'))"
   ]
  },
  {
   "cell_type": "code",
   "execution_count": 246,
   "id": "8163d84f-5c3e-4288-8b49-dc8b1e163ff3",
   "metadata": {},
   "outputs": [
    {
     "name": "stdout",
     "output_type": "stream",
     "text": [
      "Welcome Robert, Hello to Python World.\n",
      "If you know Java then Python will be much easier for you.\n",
      "Keep growing Robert \n"
     ]
    }
   ],
   "source": [
    "# EXAMPLE OF PYTHON STRING FORMATTING\n",
    "name = 'Robert'\n",
    "language = 'Python'\n",
    "java = 'Java'\n",
    "print('Welcome {0}, Hello to {1} World.\\nIf you know {2} then {1} will be much easier for you.\\nKeep growing {0} '.format(name, language, java))"
   ]
  },
  {
   "cell_type": "raw",
   "id": "4c64382f-2570-468e-bdc6-520e9ada1621",
   "metadata": {},
   "source": [
    "Float Formatting Example"
   ]
  },
  {
   "cell_type": "code",
   "execution_count": 270,
   "id": "ace24cb5-e885-4ad0-8e99-2db695fdb1e9",
   "metadata": {},
   "outputs": [
    {
     "name": "stdout",
     "output_type": "stream",
     "text": [
      "0.1287001287001287\n",
      "0.129\n",
      "102.46\n"
     ]
    }
   ],
   "source": [
    "result = 100/777\n",
    "print(result)\n",
    "print('{r:1.3f}'.format(r=result))\n",
    "result = 102.45678\n",
    "print('{r:1.2f}'.format(r=result))"
   ]
  },
  {
   "cell_type": "code",
   "execution_count": 272,
   "id": "e95c7f9d-0726-4991-8903-aa15dad96a79",
   "metadata": {},
   "outputs": [
    {
     "name": "stdout",
     "output_type": "stream",
     "text": [
      "Hello Robert welcome to Python\n"
     ]
    }
   ],
   "source": [
    "name = 'Robert'\n",
    "langauge = 'Python'\n",
    "print(f'Hello {name} welcome to {language}')"
   ]
  },
  {
   "cell_type": "code",
   "execution_count": null,
   "id": "ebcd4c42-4366-41f8-93b3-02668b5fa8ac",
   "metadata": {},
   "outputs": [],
   "source": []
  }
 ],
 "metadata": {
  "kernelspec": {
   "display_name": "Python 3 (ipykernel)",
   "language": "python",
   "name": "python3"
  },
  "language_info": {
   "codemirror_mode": {
    "name": "ipython",
    "version": 3
   },
   "file_extension": ".py",
   "mimetype": "text/x-python",
   "name": "python",
   "nbconvert_exporter": "python",
   "pygments_lexer": "ipython3",
   "version": "3.12.4"
  }
 },
 "nbformat": 4,
 "nbformat_minor": 5
}
