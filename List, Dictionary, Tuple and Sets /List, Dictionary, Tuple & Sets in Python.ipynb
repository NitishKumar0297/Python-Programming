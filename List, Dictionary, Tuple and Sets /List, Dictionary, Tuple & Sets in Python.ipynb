{
 "cells": [
  {
   "cell_type": "markdown",
   "id": "4c3afd3d-1b08-4fdf-bbd9-0fbd267d7ce1",
   "metadata": {},
   "source": [
    "List\n",
    "1. List is a ordered sequences that can hold a variety of object types.\n",
    "2. They use [] brackets and commas to seprate object in the list. e.g: [1, 2, 3, 4, 5]\n",
    "3. Lists supports indexing and slicing. Lists can be nested and also have a variety of useful methods that can be called of them.\n",
    "\n",
    "Dictionaries in Python\n",
    "1. Dictionaries are unordered mappings for storing objects. Dictionaries use a key-value pairing for storing objects.\n",
    "2. This key value pair allows user to quickly grab objects without needing to know an index location.\n",
    "3. Dictionaries use curly braces {} and colon : to signify the keys and their associated values.\n",
    "        {'key1':'value1', 'key2': 'value2'}\n",
    "\n",
    "When to choose list and dictionaties ?\n",
    "When their is requirement where we have to retrieve object by key name then make use dictionairies. It is unordered and can not be sorted.\n",
    "Use list when you want to retrieve object by thier locations as it is ordered sequence can be indexed and sliced easily.\n",
    "\n",
    "\n",
    "Tuples\n",
    "Tuples are very similiar to list but the key difference is Tuples are immutable. Once an element is inside the tuples that cannot be reassigned.\n",
    "Tuples uses parenthesis ().\n",
    "(1,2,3)\n",
    "\n",
    "Sets\n",
    "Sets are unordered collection of unique elements. Means object elements cannot be duplicated.\n",
    "set()\n",
    "\n",
    "Booleans\n",
    "Booleans are operator that allows you to convey True or False.\n",
    "In Python True T should be in caps and False F should be in caps."
   ]
  },
  {
   "cell_type": "code",
   "execution_count": 20,
   "id": "a5d4e867-4511-46e2-a706-ddda8785e4aa",
   "metadata": {},
   "outputs": [
    {
     "name": "stdout",
     "output_type": "stream",
     "text": [
      "[1, 2, 3, 4]\n",
      "length is: 4\n",
      "length is 4\n",
      "[1, 2]\n",
      "[1, 2, 3, 'India', 'Aus', 34.33]\n"
     ]
    }
   ],
   "source": [
    "my_list = [1, 2, 3, 4]\n",
    "print(my_list)\n",
    "print(f'length is: {len(my_list)}')\n",
    "print('length is {0}'.format(len(my_list)))\n",
    "my_list = my_list[0:2:1]\n",
    "print(my_list)\n",
    "my_list = [ 1, 2, 3, 'India', 'Aus', 34.33]\n",
    "print(my_list)"
   ]
  },
  {
   "cell_type": "code",
   "execution_count": 42,
   "id": "446b15fd-b93d-457c-8bc6-001bb9fe3471",
   "metadata": {},
   "outputs": [
    {
     "name": "stdout",
     "output_type": "stream",
     "text": [
      "['Ind', 'Aus', 'NZ', 'RSA']\n",
      "['Ind is world T20 Champion of 2024', 'Aus', 'NZ', 'RSA']\n",
      "['Ind is world T20 Champion of 2024', 'Aus', 'NZ', 'RSA', 'Eng']\n",
      "['Ind is world T20 Champion of 2024', 'NZ', 'RSA', 'Eng']\n",
      "Eng\n",
      "['Ind is world T20 Champion of 2024', 'NZ', 'RSA']\n",
      "['Ind is world T20 Champion of 2024', 'RSA']\n"
     ]
    }
   ],
   "source": [
    "countries = ['Ind', 'Aus', 'NZ', 'RSA']\n",
    "print(countries)\n",
    "countries [0] = 'Ind is world T20 Champion of 2024'\n",
    "print(countries)\n",
    "countries.append('Eng')\n",
    "print(countries)\n",
    "countries.remove('Aus')\n",
    "print(countries)\n",
    "print(countries.pop())\n",
    "print(countries)\n",
    "countries.pop(1)\n",
    "print(countries)"
   ]
  },
  {
   "cell_type": "code",
   "execution_count": 60,
   "id": "053b0b92-07b2-473d-a1ef-41e622403986",
   "metadata": {},
   "outputs": [
    {
     "name": "stdout",
     "output_type": "stream",
     "text": [
      "[45, 2, 1, 67, 23, 44, 8, 3]\n",
      "[1, 2, 3, 8, 23, 44, 45, 67]\n",
      "[1, 2, 3, 8, 23, 44, 45, 67]\n",
      "[67, 45, 44, 23, 8, 3, 2, 1]\n"
     ]
    }
   ],
   "source": [
    "my_list = [45, 2, 1, 67, 23, 44, 8, 3]\n",
    "print(my_list)\n",
    "my_list.sort()\n",
    "new_list = my_list\n",
    "print(my_list)\n",
    "print(new_list)\n",
    "new_list.reverse()\n",
    "print(new_list)"
   ]
  },
  {
   "cell_type": "code",
   "execution_count": 101,
   "id": "ef3749c4-0315-4435-8a66-a8b100a6e23e",
   "metadata": {},
   "outputs": [
    {
     "name": "stdout",
     "output_type": "stream",
     "text": [
      "{'name': 'Robert', 'age': 27, 'country': 'India', 'designation': 'Software Engineer'}\n",
      "name is Robert and desination is Software Engineer\n",
      "Apple price is 200\n",
      "Mango prices is 250\n",
      "Milk prices is 30\n",
      "{'k1': 10, 'k2': ['a', 'b', 'c', 4], 'k3': {'test': 'Python'}}\n",
      "B\n",
      "A\n",
      "{'name': 'Elon Musk', 'Desination': 'Scientist'}\n",
      "{'name': 'Elon Musk', 'Desination': 'Scientist', 'company': 'spaceX'}\n",
      "{'name': 'Elon Musk', 'Desination': 'Scientist', 'company': 'Tesla'}\n",
      "new dictionary all keys are below:\n",
      "dict_keys(['name', 'Desination', 'company'])\n",
      "new dictionary all values are below:\n",
      "dict_values(['Elon Musk', 'Scientist', 'Tesla'])\n"
     ]
    }
   ],
   "source": [
    "# Dictionaries Example\n",
    "my_dict = {'name':'Robert', 'age': 27, 'country': 'India', 'designation': 'Software Engineer'}\n",
    "print(my_dict)\n",
    "print(f'name is {my_dict['name']} and desination is {my_dict['designation']}')\n",
    "\n",
    "#one more example\n",
    "item_prices = {'apple': 200, 'mango': 250, 'milk': 30}\n",
    "print(f'Apple price is {item_prices['apple']}')\n",
    "print('Mango prices is {0}'.format(item_prices['mango']))\n",
    "print('Milk prices is {0}'.format(item_prices['milk']))\n",
    "\n",
    "#example where dictionaries contains list as value and one more dictionary\n",
    "\n",
    "my_dict = {'k1': 10, 'k2': ['a','b','c', 4], 'k3': {'test': 'Python'}}\n",
    "print(my_dict)\n",
    "print(my_dict['k2'][1].upper())\n",
    "letter = my_dict['k2'][0]\n",
    "print(letter.upper())\n",
    "new_dict = {'name' : 'Elon Musk', 'Desination' : 'Scientist'}\n",
    "print(new_dict)\n",
    "new_dict['company'] = 'spaceX'\n",
    "print(new_dict)\n",
    "new_dict['company'] = 'Tesla'\n",
    "print(new_dict)\n",
    "print('new dictionary all keys are below:')\n",
    "print(new_dict.keys())\n",
    "print('new dictionary all values are below:')\n",
    "print(new_dict.values())"
   ]
  },
  {
   "cell_type": "raw",
   "id": "00fd7b34-0d9c-4fcf-8a77-b99ec68defae",
   "metadata": {},
   "source": [
    "Tuples Example Below"
   ]
  },
  {
   "cell_type": "code",
   "execution_count": 123,
   "id": "7e90be1a-1ada-42d9-8085-23224f472645",
   "metadata": {},
   "outputs": [
    {
     "name": "stdout",
     "output_type": "stream",
     "text": [
      "(1, 2, 3, 4, 5)\n",
      "[1, 2, 3, 4, 5]\n",
      "<class 'tuple'>\n",
      "<class 'list'>\n",
      "[1, 2, 33, 4, 5]\n",
      "4\n"
     ]
    }
   ],
   "source": [
    "my_tuples = (1,2,3,4,5)\n",
    "print(my_tuples)\n",
    "my_list = [1,2,3,4,5]\n",
    "print(my_list)\n",
    "print(type(my_tuples))\n",
    "print(type(my_list))\n",
    "my_list[2] = 33\n",
    "#below line in tuple give error and in list work fine. in tuple it is not working because of immutability\n",
    "print(my_list)\n",
    "name_tuples = ('ABC', 'DEF', 'ABC', 'XYZ', 1, 3, 5,8,8,3,6,3, 4,3)\n",
    "print(name_tuples.count(3))"
   ]
  },
  {
   "cell_type": "code",
   "execution_count": 127,
   "id": "d9c8997a-f82a-418a-a62f-fac8b62fed22",
   "metadata": {},
   "outputs": [
    {
     "name": "stdout",
     "output_type": "stream",
     "text": [
      "{1, 2}\n"
     ]
    }
   ],
   "source": [
    "my_set = set()\n",
    "my_set.add(1)\n",
    "my_set.add(2)\n",
    "my_set.add(1)\n",
    "print(my_set)"
   ]
  },
  {
   "cell_type": "code",
   "execution_count": null,
   "id": "24407b59-7ac1-4e0a-9265-114b6e1d5a61",
   "metadata": {},
   "outputs": [],
   "source": []
  }
 ],
 "metadata": {
  "kernelspec": {
   "display_name": "Python 3 (ipykernel)",
   "language": "python",
   "name": "python3"
  },
  "language_info": {
   "codemirror_mode": {
    "name": "ipython",
    "version": 3
   },
   "file_extension": ".py",
   "mimetype": "text/x-python",
   "name": "python",
   "nbconvert_exporter": "python",
   "pygments_lexer": "ipython3",
   "version": "3.12.4"
  }
 },
 "nbformat": 4,
 "nbformat_minor": 5
}
