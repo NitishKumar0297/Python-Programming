{
 "cells": [
  {
   "cell_type": "markdown",
   "id": "128b91b1-78d1-4b42-88e0-b544be7893f1",
   "metadata": {},
   "source": [
    "*args and **kwargs in Python\n",
    "*args means arguments and **kwargs means keyword arguments\n",
    "\n",
    "*args - arbitiary choice\n",
    "def myfunc(*args):\n",
    "    return sum(args) * 0.05;\n",
    "above myfunc param simply means we are acception tuple of parameters here. User can pass any number of parameters here.\n",
    "Instead of *args we can write any name to it. Like *spam, *mynum\n",
    "\n",
    "**kwargs: Python offers a way to handle an arbitary number of key worded arguments. So instead of creating a tuple of values, what happens if we write **kwargs which is a keyword arguments. It builds a dictionary of key value pairs."
   ]
  },
  {
   "cell_type": "code",
   "execution_count": 84,
   "id": "4e944e4f-f68a-40e3-98ee-b79ac4062d6d",
   "metadata": {},
   "outputs": [],
   "source": [
    "stock_prices = [('IRFC', 200), ('Wipro', 500), ('NHPC', 100)]"
   ]
  },
  {
   "cell_type": "code",
   "execution_count": 9,
   "id": "6c0102b9-1b61-420e-88da-c97eae0f1caf",
   "metadata": {},
   "outputs": [
    {
     "name": "stdout",
     "output_type": "stream",
     "text": [
      "('IRFC', 200)\n",
      "('Wipro', 500)\n",
      "('NHPC', 100)\n",
      "IRFC - 200\n",
      "Wipro - 500\n",
      "NHPC - 100\n"
     ]
    }
   ],
   "source": [
    "for item in stock_prices:\n",
    "    print(item)\n",
    "\n",
    "for ticker, price in stock_prices:\n",
    "    print(f'{ticker} - {price}')"
   ]
  },
  {
   "cell_type": "code",
   "execution_count": 43,
   "id": "b01dbb87-ae9a-4b98-b45d-d93e58b381ec",
   "metadata": {},
   "outputs": [
    {
     "name": "stdout",
     "output_type": "stream",
     "text": [
      "('Mark', 121)\n"
     ]
    }
   ],
   "source": [
    "#function to calculate employee with max work hours\n",
    "emp_work_hours = [('Robert', 100), ('Kevin', 114), ('Chen', 93), ('Kevin', 105), ('Mark', 121)]\n",
    "\n",
    "def calculate_max_working_emp(emp_data):\n",
    "    max_work_hour = 0\n",
    "    emp_name = ''\n",
    "    for name, work_hour in emp_work_hours:\n",
    "        if work_hour > max_work_hour:\n",
    "            max_work_hour = work_hour\n",
    "            emp_name = name\n",
    "\n",
    "    return (emp_name, max_work_hour)\n",
    "            \n",
    "            \n",
    "print(calculate_max_working_emp(emp_work_hours))"
   ]
  },
  {
   "cell_type": "code",
   "execution_count": 45,
   "id": "de781920-61de-48ed-b455-520c31ee9da8",
   "metadata": {},
   "outputs": [],
   "source": [
    "# number guess game until entered number match the nubmers in list"
   ]
  },
  {
   "cell_type": "code",
   "execution_count": 49,
   "id": "626577f0-d165-46a8-8a15-1b641305c408",
   "metadata": {},
   "outputs": [
    {
     "name": "stdin",
     "output_type": "stream",
     "text": [
      "enter any random number between 1 to 10 894\n",
      "enter any random number between 1 to 10 i4ui4u\n",
      "enter any random number between 1 to 10 23232\n",
      "enter any random number between 1 to 10 2323\n",
      "enter any random number between 1 to 10 3434\n",
      "enter any random number between 1 to 10 23232\n",
      "enter any random number between 1 to 10 1\n"
     ]
    },
    {
     "data": {
      "text/plain": [
       "1"
      ]
     },
     "execution_count": 49,
     "metadata": {},
     "output_type": "execute_result"
    }
   ],
   "source": []
  },
  {
   "cell_type": "code",
   "execution_count": 157,
   "id": "89475e4f-8f0d-405c-b814-94da3d55cc5a",
   "metadata": {},
   "outputs": [
    {
     "name": "stdout",
     "output_type": "stream",
     "text": [
      "AsfdfdfWS\n"
     ]
    },
    {
     "name": "stdin",
     "output_type": "stream",
     "text": [
      "enter any random number between 1 to 10 2\n"
     ]
    },
    {
     "name": "stdout",
     "output_type": "stream",
     "text": [
      "[6, 4, 8, 1, 7, 5, 2, 3]\n",
      "try again\n"
     ]
    }
   ],
   "source": [
    "from random import shuffle\n",
    "\n",
    "list = [1,2,3,4,5,6,7,8]\n",
    "mystr = 'AsfdfdfWS'\n",
    "print(mystr)\n",
    "def guess_num():\n",
    "    guess = ''\n",
    "    while guess not in ['0', '1', '2']:\n",
    "        guess = input('enter any random number between 1 to 10')\n",
    "    return int(guess)\n",
    "\n",
    "\n",
    "def check_guess_num(list, guess):\n",
    "    if list[0] == guess:\n",
    "        print('correct')\n",
    "    else:\n",
    "        print('try again')\n",
    "\n",
    "user_guess = guess_num()\n",
    "shuffle(list)\n",
    "print(list)\n",
    "check_guess_num(list, user_guess)\n",
    "\n"
   ]
  },
  {
   "cell_type": "code",
   "execution_count": 103,
   "id": "1c2ff89a-6540-4861-b97e-924e3826f81b",
   "metadata": {},
   "outputs": [
    {
     "data": {
      "text/plain": [
       "200"
      ]
     },
     "execution_count": 103,
     "metadata": {},
     "output_type": "execute_result"
    }
   ],
   "source": [
    "# *args example\n",
    "\n",
    "def calculate_sum(*args):\n",
    "    return sum(args)\n",
    "\n",
    "calculate_sum(100,25,50,10,5,7,3)"
   ]
  },
  {
   "cell_type": "code",
   "execution_count": 131,
   "id": "435428f0-a569-4cea-9f90-e1ae196ca4c7",
   "metadata": {},
   "outputs": [],
   "source": [
    "# **kwargs example\n",
    "\n",
    "def myfunc(**kwargs):\n",
    "    print(kwargs)\n",
    "    if 'name' in kwargs:\n",
    "        print(f'name is {kwargs['name']}')\n",
    "    else:\n",
    "        print('anonymous')"
   ]
  },
  {
   "cell_type": "code",
   "execution_count": 133,
   "id": "c56655b7-065c-4dab-b9f2-91aef6b553e5",
   "metadata": {},
   "outputs": [
    {
     "name": "stdout",
     "output_type": "stream",
     "text": [
      "{'name': 'robert', 'role': 'SE'}\n",
      "name is robert\n"
     ]
    }
   ],
   "source": [
    "myfunc(name ='robert', role = 'SE')"
   ]
  },
  {
   "cell_type": "code",
   "execution_count": 137,
   "id": "ea5c2624-4169-4d66-9b83-44b39d3706bc",
   "metadata": {},
   "outputs": [
    {
     "name": "stdout",
     "output_type": "stream",
     "text": [
      "(100, 200, 300)\n",
      "{'name': 'Robert', 'role': 'SSE'}\n"
     ]
    }
   ],
   "source": [
    "# *args and **kwargs together\n",
    "\n",
    "def myfunc(*args, **kwargs):\n",
    "    print(args)\n",
    "    print(kwargs)\n",
    "\n",
    "myfunc(100,200,300, name = 'Robert', role = 'SSE')"
   ]
  },
  {
   "cell_type": "code",
   "execution_count": 203,
   "id": "89dbb59a-aeea-4e00-baa5-451db22fcba5",
   "metadata": {},
   "outputs": [
    {
     "data": {
      "text/plain": [
       "'AnThRoPoMoRpHiSm'"
      ]
     },
     "execution_count": 203,
     "metadata": {},
     "output_type": "execute_result"
    }
   ],
   "source": [
    "def myfunc(*args):\n",
    "    mystr = args[0]\n",
    "    result = ''\n",
    "    for i in range(0, len(mystr)):\n",
    "        if i%2 == 0:\n",
    "            result = result + mystr[i].upper()\n",
    "        else:\n",
    "             result = result + mystr[i].lower()\n",
    "    return result\n",
    "\n",
    "myfunc('Anthropomorphism')"
   ]
  },
  {
   "cell_type": "code",
   "execution_count": null,
   "id": "5fc58e5b-44a5-4be7-8b4f-718ffac40858",
   "metadata": {},
   "outputs": [],
   "source": []
  }
 ],
 "metadata": {
  "kernelspec": {
   "display_name": "Python 3 (ipykernel)",
   "language": "python",
   "name": "python3"
  },
  "language_info": {
   "codemirror_mode": {
    "name": "ipython",
    "version": 3
   },
   "file_extension": ".py",
   "mimetype": "text/x-python",
   "name": "python",
   "nbconvert_exporter": "python",
   "pygments_lexer": "ipython3",
   "version": "3.12.4"
  }
 },
 "nbformat": 4,
 "nbformat_minor": 5
}
