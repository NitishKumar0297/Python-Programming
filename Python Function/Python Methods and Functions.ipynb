{
 "cells": [
  {
   "cell_type": "markdown",
   "id": "1fcc6ae9-b60a-4820-9a3e-0bd8baccbcb0",
   "metadata": {},
   "source": [
    "Function\n",
    "\n",
    "Function allows us to write a block of code which we can reuse multiple times without writing same code again and again.\n",
    "\n",
    "def keyword is used to define a function in Python. It requires def keyword, correct indentation and proper structure.\n",
    "\n",
    "def name_of_function():\n",
    "    return\n",
    "\n",
    "1. Please note snake casing in above method name. Snake casing means : all lowercase letters with underscore between them.\n",
    "2. Parenthesis at the end, we can pass in arguments/parameters into the functions.\n",
    "3. A colon : indicates an upcoming indented block. Everything indented is then 'inside' the function.\n",
    "\n",
    "Option: '''\n",
    "docstrings explained function\n",
    "'''\n",
    "Note: Everything inside the function is indented.\n",
    "\n",
    "\n",
    "Typically we use the return keyword to send back the result of the function, instead of just printing it out.\n",
    "Returns allows us to assign the output of the function to a new variable."
   ]
  },
  {
   "cell_type": "markdown",
   "id": "b22ebb73-571a-476b-9e2b-a07d938531c8",
   "metadata": {},
   "source": [
    "mylist = [1,2,3,4,5]\n",
    "print(mylist)\n",
    "mylist.append(6)\n",
    "print(mylist)\n",
    "mylist.insert(1,33)\n",
    "print(mylist)\n",
    "help(mylist.insert)\n",
    "help(mylist.copy)"
   ]
  },
  {
   "cell_type": "code",
   "execution_count": 41,
   "id": "39af75a9-08a8-42e3-adc7-015f8cdd4f02",
   "metadata": {},
   "outputs": [
    {
     "name": "stdout",
     "output_type": "stream",
     "text": [
      "hello Robert\n"
     ]
    }
   ],
   "source": [
    "mylist.pop()\n",
    "\n",
    "#define hello world with default param if not given\n",
    "\n",
    "def say_hello(name='Default'):\n",
    "    print(f'hello {name}')\n",
    "\n",
    "say_hello('Robert')"
   ]
  },
  {
   "cell_type": "code",
   "execution_count": 33,
   "id": "4cba37d8-ad6c-4211-aa77-51970fa54201",
   "metadata": {},
   "outputs": [
    {
     "name": "stdin",
     "output_type": "stream",
     "text": [
      "Enter 1st number 474\n",
      "Enter 2nd number 100\n"
     ]
    },
    {
     "name": "stdout",
     "output_type": "stream",
     "text": [
      "sum of 474 & 100 is 574\n"
     ]
    }
   ],
   "source": [
    "#Python function to take two numbers from user and calculate the sum\n",
    "num1 = int(input('Enter 1st number'))\n",
    "num2 = int(input('Enter 2nd number'))\n",
    "\n",
    "def calculate_sum(num1, num2):\n",
    "    return num1 + num2\n",
    "\n",
    "sum = calculate_sum(num1, num2)\n",
    "print(f'sum of {num1} & {num2} is {sum}')    "
   ]
  },
  {
   "cell_type": "code",
   "execution_count": 55,
   "id": "596d2a55-2171-4a64-b2b0-68aec0033fe5",
   "metadata": {},
   "outputs": [
    {
     "name": "stdin",
     "output_type": "stream",
     "text": [
      "Enter number to check for even 740\n"
     ]
    },
    {
     "name": "stdout",
     "output_type": "stream",
     "text": [
      "True\n"
     ]
    }
   ],
   "source": [
    "# Python function to check number is even\n",
    "num = int(input('Enter number to check for even'))\n",
    "def check_even(num):\n",
    "    if(num%2 == 0):\n",
    "        return True\n",
    "    else:\n",
    "        return False\n",
    "\n",
    "print(check_even(num))"
   ]
  },
  {
   "cell_type": "code",
   "execution_count": 5,
   "id": "df1e28d3-8bee-4da6-95da-e943e4e35737",
   "metadata": {},
   "outputs": [
    {
     "name": "stdout",
     "output_type": "stream",
     "text": [
      "[70, 2, 10, 30]\n"
     ]
    }
   ],
   "source": [
    "# Python function to return TRUE if any number inside a list is true\n",
    "mylist = [1,9,55,5,70,61,2,10,30,99,41]\n",
    "evenlist = []\n",
    "def check_even_num(mylist):\n",
    "    for item in mylist:\n",
    "        if(item%2 == 0):\n",
    "            evenlist.append(item)\n",
    "        else:\n",
    "            pass\n",
    "    return evenlist\n",
    "\n",
    "flag = check_even_num(mylist)\n",
    "print(flag)"
   ]
  },
  {
   "cell_type": "code",
   "execution_count": null,
   "id": "f8eb2502-42f8-421b-a76e-48ecac17f830",
   "metadata": {},
   "outputs": [],
   "source": []
  }
 ],
 "metadata": {
  "kernelspec": {
   "display_name": "Python 3 (ipykernel)",
   "language": "python",
   "name": "python3"
  },
  "language_info": {
   "codemirror_mode": {
    "name": "ipython",
    "version": 3
   },
   "file_extension": ".py",
   "mimetype": "text/x-python",
   "name": "python",
   "nbconvert_exporter": "python",
   "pygments_lexer": "ipython3",
   "version": "3.12.4"
  }
 },
 "nbformat": 4,
 "nbformat_minor": 5
}
